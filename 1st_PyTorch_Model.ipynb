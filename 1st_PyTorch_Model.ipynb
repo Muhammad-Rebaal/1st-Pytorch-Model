{
  "cells": [
    {
      "cell_type": "code",
      "execution_count": null,
      "metadata": {
        "colab": {
          "base_uri": "https://localhost:8080/"
        },
        "id": "MoFPixjGe7hZ",
        "outputId": "de5b3a42-6da3-4e60-97c3-421209c1e4c2"
      },
      "outputs": [
        {
          "name": "stdout",
          "output_type": "stream",
          "text": [
            "tensor([[0.0000],\n",
            "        [0.0200],\n",
            "        [0.0400],\n",
            "        [0.0600],\n",
            "        [0.0800],\n",
            "        [0.1000],\n",
            "        [0.1200],\n",
            "        [0.1400],\n",
            "        [0.1600],\n",
            "        [0.1800]]) tensor([[0.3000],\n",
            "        [0.3140],\n",
            "        [0.3280],\n",
            "        [0.3420],\n",
            "        [0.3560],\n",
            "        [0.3700],\n",
            "        [0.3840],\n",
            "        [0.3980],\n",
            "        [0.4120],\n",
            "        [0.4260]])\n",
            "50 50\n"
          ]
        }
      ],
      "source": [
        "import torch\n",
        "from torch import nn # nn contains all of PyTorch's building blocks for neural networks\n",
        "import matplotlib.pyplot as plt\n",
        "\n",
        "#Check PyTorch Version\n",
        "# print(torch.__version__)  Print If want to\n",
        "\n",
        "# Create  Known Parameters\n",
        "weight  = 0.7\n",
        "bias = 0.3\n",
        "\n",
        "# Create\n",
        "start = 0\n",
        "end = 1\n",
        "step = 0.02\n",
        "X = torch.arange(start,end,step).unsqueeze(1)\n",
        "y = weight * X + bias\n",
        "\n",
        "print(X[:10],y[:10]) # First 10 of X and First 10 of y.\n",
        "print(len(X),len(y)) # Total length of X and y."
      ]
    },
    {
      "cell_type": "code",
      "execution_count": null,
      "metadata": {
        "colab": {
          "base_uri": "https://localhost:8080/"
        },
        "id": "RBbkB-e9hYag",
        "outputId": "56a21392-56f0-4eb3-b138-dd8bdda8f20a"
      },
      "outputs": [
        {
          "name": "stdout",
          "output_type": "stream",
          "text": [
            "40 40 10 10\n"
          ]
        }
      ],
      "source": [
        "# Create a train/test split\n",
        "train_split = int(0.8*len(X))\n",
        "X_train,y_train = X[:train_split] , y[:train_split]  \n",
        "X_test,y_test   = X[train_split:] , y[train_split:]  \n",
        "\n",
        "print(len(X_train),len(y_train),len(X_test),len(y_test))\n"
      ]
    },
    {
      "cell_type": "code",
      "execution_count": null,
      "metadata": {
        "colab": {
          "base_uri": "https://localhost:8080/",
          "height": 599
        },
        "id": "sD9Bim1ShjV3",
        "outputId": "9c26e090-9d07-406c-c188-3f3fc4fc5d58"
      },
      "outputs": [
        {
          "data": {
            "image/png": "[encoded data removed]",
            "text/plain": [
              "<Figure size 1000x700 with 1 Axes>"
            ]
          },
          "metadata": {},
          "output_type": "display_data"
        }
      ],
      "source": [
        "def plot_predictions(train_data = X_train,\n",
        "                     train_lebels = y_train,\n",
        "                     test_data = X_test,\n",
        "                     test_label = y_test,\n",
        "                     predictions= None ):\n",
        "\n",
        "# Plots training data,\n",
        "\n",
        " plt.figure(figsize =(10,7))\n",
        "\n",
        "# Plot training data in blue\n",
        "\n",
        " plt.scatter(train_data,train_lebels, c=\"b\",s=4 , label =\"Training Data\")\n",
        "\n",
        "# Plot test data in green\n",
        " plt.scatter(test_data,test_label,c=\"g\",s=4,label=\"Testing Data\")\n",
        "\n",
        "# Are there Predictions?\n",
        "\n",
        " if predictions is not None:\n",
        "# Plot the predictions if they exits\n",
        "      plt.scatter(test_data,predictions , c=\"r\", s=4 , label=\"Predictions\")\n",
        " plt.legend(prop={\"size\":14})\n",
        "\n",
        "plot_predictions()"
      ]
    },
    {
      "cell_type": "markdown",
      "metadata": {
        "id": "TJC5mrqJjjrV"
      },
      "source": [
        "## 2. Build Model\n",
        "\n",
        "Our first PyTorch model!\n",
        "This is very exciting....Let's do it!\n",
        "What are Our Model does:\n",
        "\n",
        "(1) Start with Random values(weight & bias):\n",
        "\n",
        "(2) Look at training data and adjust the random values to better represent(or get closer to) the ideal values (the weight & bias values we used to create the data)\n",
        "\n",
        "How does it to do so?\n",
        "\n",
        "Throught 2 main algorithms\n",
        "\n",
        "(1) Gradient descent\n",
        "\n",
        "(2) BackPropagation"
      ]
    },
    {
      "cell_type": "code",
      "execution_count": null,
      "metadata": {
        "id": "-uCJEhUmoZ3Z"
      },
      "outputs": [],
      "source": [
        "from torch import nn\n",
        "\n",
        "# Create linear regression model class\n",
        "class LinearRegressionModel(nn.Module):\n",
        "    def __init__(self):\n",
        "      super().__init__()\n",
        "      self.weights = nn.Parameter(torch.randn(1,   \n",
        "                                              requires_grad=True, \n",
        "                                              dtype = torch.float)) \n",
        "\n",
        "      self.bias = nn.Parameter(torch.randn(1, \n",
        "                                           requires_grad=True, \n",
        "                                           dtype=torch.float)) \n",
        " \n",
        "    def forward(self,x: torch.Tensor) -> torch.Tensor:\n",
        "        return self.weights * x + self.bias  "
      ]
    },
    {
      "cell_type": "markdown",
      "metadata": {
        "id": "gtM-x9Ym4uzN"
      },
      "source": [
        "### PyTorch model building essential\n",
        "\n",
        "* torch.nn - contains all of the buildings for computational graphs(a neural network can be considered a computational graph).\n",
        "* torch.nn.Parameter - what parameters should our model try and learn, oftern a PyTorch layer from torch.nn will set these for us.\n",
        "* torch.nn.Model - The base class for all neural network modules,if you subclass it, you should overwrite forward().\n",
        "* torch.optim - this where the optimizers in PyTorch live,they will help with gradient descent.\n",
        "* def forward() - All nn.Module subclasses require you to overwrite forward(),this method defines what happens in the forward computation."
      ]
    },
    {
      "cell_type": "markdown",
      "metadata": {
        "id": "fWlGV_ca-enu"
      },
      "source": [
        "### Checking the contens of our PyTorch model\n",
        "Now we've created a model,let's see what's inside...\n",
        "\n",
        "So we can check our model parameters or what's inside our model using `.parameters()`"
      ]
    },
    {
      "cell_type": "code",
      "execution_count": null,
      "metadata": {
        "colab": {
          "base_uri": "https://localhost:8080/"
        },
        "id": "ANmKGOlNMfO2",
        "outputId": "1bf3621b-4840-4bb3-ca8b-ad38f338d759"
      },
      "outputs": [
        {
          "data": {
            "text/plain": [
              "[Parameter containing:\n",
              " tensor([0.3367], requires_grad=True),\n",
              " Parameter containing:\n",
              " tensor([0.1288], requires_grad=True)]"
            ]
          },
          "execution_count": 5,
          "metadata": {},
          "output_type": "execute_result"
        }
      ],
      "source": [
        "# Create a random seed\n",
        "torch.manual_seed(42)   \n",
        "model_0 = LinearRegressionModel()\n",
        "\n",
        "# Check out the parameters\n",
        "list(model_0.parameters()) "
      ]
    },
    {
      "cell_type": "code",
      "execution_count": null,
      "metadata": {
        "colab": {
          "base_uri": "https://localhost:8080/"
        },
        "id": "8RNFhrGRNyad",
        "outputId": "4f5d479a-4c37-4fd8-b2cc-fcbbb594f13e"
      },
      "outputs": [
        {
          "data": {
            "text/plain": [
              "OrderedDict([('weights', tensor([0.3367])), ('bias', tensor([0.1288]))])"
            ]
          },
          "execution_count": 6,
          "metadata": {},
          "output_type": "execute_result"
        }
      ],
      "source": [
        "# List named parameters\n",
        "model_0.state_dict()  "
      ]
    },
    {
      "cell_type": "code",
      "execution_count": null,
      "metadata": {
        "colab": {
          "base_uri": "https://localhost:8080/"
        },
        "id": "MQKlJYblOIaw",
        "outputId": "fcb4d890-f408-4297-a505-afde50b20433"
      },
      "outputs": [
        {
          "data": {
            "text/plain": [
              "(0.7, 0.3)"
            ]
          },
          "execution_count": 7,
          "metadata": {},
          "output_type": "execute_result"
        }
      ],
      "source": [
        "\n",
        "weight,bias\n"
      ]
    },
    {
      "cell_type": "markdown",
      "metadata": {
        "id": "iDupg-BKOUsc"
      },
      "source": [
        "### Making prediction using `torch.inference_mode()`\n",
        "To check our model's predictive power, let's see how well it predicts `y_test` based on `x_test`.\n",
        "When we pass data through our model, it's going to run it through the forward() method."
      ]
    },
    {
      "cell_type": "code",
      "execution_count": null,
      "metadata": {
        "colab": {
          "base_uri": "https://localhost:8080/"
        },
        "id": "AL1tqr2HPWQX",
        "outputId": "3a27d650-9e99-4a4a-eb0a-3472a24da549"
      },
      "outputs": [
        {
          "data": {
            "text/plain": [
              "tensor([[0.3982],\n",
              "        [0.4049],\n",
              "        [0.4116],\n",
              "        [0.4184],\n",
              "        [0.4251],\n",
              "        [0.4318],\n",
              "        [0.4386],\n",
              "        [0.4453],\n",
              "        [0.4520],\n",
              "        [0.4588]])"
            ]
          },
          "execution_count": 8,
          "metadata": {},
          "output_type": "execute_result"
        }
      ],
      "source": [
        "# Make predictions with model\n",
        "\"\"\"\n",
        "yani s simple hm ye dekh rhe hain huamare\n",
        "jo model hai wo prediction k bd kitna acha\n",
        "result deta hai yani jo abhi hm prediction krenge\n",
        "torch.inference_model() uska result humare y_test\n",
        "se kitna dor hota hai, Let's chk it...\n",
        "\"\"\"\n",
        "\n",
        "with torch.inference_mode():\n",
        "  y_preds = model_0(X_test)\n",
        " \n",
        "\n",
        "y_preds"
      ]
    },
    {
      "cell_type": "code",
      "execution_count": null,
      "metadata": {
        "colab": {
          "base_uri": "https://localhost:8080/"
        },
        "id": "WPQsB0tnUiiT",
        "outputId": "7a99f4b9-03fb-4914-871a-6339bc57192e"
      },
      "outputs": [
        {
          "data": {
            "text/plain": [
              "tensor([[0.8600],\n",
              "        [0.8740],\n",
              "        [0.8880],\n",
              "        [0.9020],\n",
              "        [0.9160],\n",
              "        [0.9300],\n",
              "        [0.9440],\n",
              "        [0.9580],\n",
              "        [0.9720],\n",
              "        [0.9860]])"
            ]
          },
          "execution_count": 9,
          "metadata": {},
          "output_type": "execute_result"
        }
      ],
      "source": [
        "y_test"
      ]
    },
    {
      "cell_type": "code",
      "execution_count": null,
      "metadata": {
        "colab": {
          "base_uri": "https://localhost:8080/",
          "height": 599
        },
        "id": "aYQBOnATUkdz",
        "outputId": "7590fe15-7f5a-4d83-ee2c-b3a2b069da9d"
      },
      "outputs": [
        {
          "data": {
            "image/png": "[encoded data removed]",
            "text/plain": [
              "<Figure size 1000x700 with 1 Axes>"
            ]
          },
          "metadata": {},
          "output_type": "display_data"
        }
      ],
      "source": [
        "plot_predictions(predictions=y_preds)"
      ]
    },
    {
      "cell_type": "markdown",
      "metadata": {
        "id": "8E2pOOKKVLxu"
      },
      "source": [
        "# Ah! It's so far from Y_tests that the predictions we made so we try to reduce the gap b/w Predictions and the Tests."
      ]
    },
    {
      "cell_type": "markdown",
      "metadata": {
        "id": "Z_XGr9meVtfl"
      },
      "source": [
        "## 3. Train model\n",
        "The whole idea of training is for a model to move from some unknown parameters(these may be random) to some known parameters.\n",
        "\n",
        "Or in other words from a poor representation of the data to a better representation of the data.\n",
        "\n",
        "One way to measure how poor or how wrong models predictions are is to use a loss function.\n",
        "\n",
        "* Note: Loss function may also be called cost function or criterion in defferent areas. For our case,we're going to refer to it as a loss function.\n",
        "\n",
        "  * Inside the optimizer you'll often have to set 2 parameters:\n",
        "    * `params`- the model parameters you'd like to optimize, for example  `params=model_0.parameters()`\n",
        "    * `lr` (learning rate)- the learning rate is a hyperparameter that defines how big/small the optimizer changes the parameters with each step(a small `lr` results in a small changes, a large `lr` results in large changes)\n",
        "\n",
        "Things we need to train:\n",
        "* **Loss function:** A function to measure how wrong your model's predictions are to the ideal outputs, lower is better.\n",
        "* **Optimizer:** Takes into account the loss of a model and adjusts the model's parameters(e.g. weight & biases in our case) to improve the loss function.\n",
        "\n",
        "And specifically for PyTorch, we need:\n",
        "* A training loop\n",
        "* A testing loop"
      ]
    },
    {
      "cell_type": "code",
      "execution_count": null,
      "metadata": {
        "colab": {
          "base_uri": "https://localhost:8080/"
        },
        "id": "tpSSSom0s-aU",
        "outputId": "9f1f7f60-a0af-4e0d-f2f7-7396671c01d4"
      },
      "outputs": [
        {
          "data": {
            "text/plain": [
              "[Parameter containing:\n",
              " tensor([0.3367], requires_grad=True),\n",
              " Parameter containing:\n",
              " tensor([0.1288], requires_grad=True)]"
            ]
          },
          "execution_count": 11,
          "metadata": {},
          "output_type": "execute_result"
        }
      ],
      "source": [
        "list(model_0.parameters())"
      ]
    },
    {
      "cell_type": "code",
      "execution_count": null,
      "metadata": {
        "colab": {
          "base_uri": "https://localhost:8080/"
        },
        "id": "3aya2gxVyq-j",
        "outputId": "d91a6acd-83a8-44f2-f4b8-c351a3e6b56e"
      },
      "outputs": [
        {
          "data": {
            "text/plain": [
              "OrderedDict([('weights', tensor([0.3367])), ('bias', tensor([0.1288]))])"
            ]
          },
          "execution_count": 12,
          "metadata": {},
          "output_type": "execute_result"
        }
      ],
      "source": [
        "model_0.state_dict()"
      ]
    },
    {
      "cell_type": "code",
      "execution_count": null,
      "metadata": {
        "id": "IylimsgPyxYk"
      },
      "outputs": [],
      "source": [
        "# Setup a loss function\n",
        "loss_fn = nn.L1Loss()\n",
        "\n",
        "optimizer = torch.optim.SGD(params=model_0.parameters(),\n",
        "                            lr=0.1) "
      ]
    },
    {
      "cell_type": "markdown",
      "metadata": {
        "id": "05GjrUm4GUSp"
      },
      "source": [
        "**Q:** Which loss function and optimizer should I use?\n",
        "\n",
        "**A:** This will be problem specific.But with experience,you'll get an idea of what workds and what doesn't with your particular problem set.\n",
        "For example,for a regression problem(like ours), a loss function of `nn.L1Loss()`and an optimizer like `torch.optim.SGD()`will suffice.\n",
        "But for a classification problem like classifying whether a photo is of a dog or a cat, you'll likely want to use a loss function of `nn.BCELoss()` (binary cross entropy loss)"
      ]
    },
    {
      "cell_type": "markdown",
      "metadata": {
        "id": "GhmKj-rIHPwu"
      },
      "source": [
        "### Building a training loop(and a testing loop) in PyTorch\n",
        "\n",
        "A couple of things we need in a training loop:\n",
        "0. Loop through the data.\n",
        "1.Forward pass (this involves data moving through our model's `forward()`functions) to make predictions on data - also called forward propagation\n",
        "2.Calculate teh loss (compare forward pass predictions to ground truth labels)\n",
        "3.Optimizer zero grad\n",
        "4.Loss backward - move backwards through the network to calculate the gradients of each of the parameters of our model with respect to the loss.(**backpropagation**)\n",
        "5.Optimizer step - use the optimizer to adjust our model's parameters to try and improve the loss.(**gradient descent**)"
      ]
    },
    {
      "cell_type": "code",
      "execution_count": null,
      "metadata": {
        "colab": {
          "base_uri": "https://localhost:8080/"
        },
        "id": "j6CzAyx6S0Gt",
        "outputId": "48a55550-16b2-4bbb-f119-87762e164ac2"
      },
      "outputs": [
        {
          "name": "stdout",
          "output_type": "stream",
          "text": [
            "Loss:0.07543627172708511\n",
            "Epoch: 0| Loss:0.07543627172708511 | Test loss:0.01536894403398037\n",
            "OrderedDict([('weights', tensor([0.6512])), ('bias', tensor([0.3588]))])\n",
            "Loss:0.039773717522621155\n",
            "Loss:0.07543627172708511\n",
            "Loss:0.039773717522621155\n",
            "Loss:0.07543627172708511\n",
            "Loss:0.039773717522621155\n",
            "Loss:0.07543627172708511\n",
            "Loss:0.039773717522621155\n",
            "Loss:0.07543627172708511\n",
            "Loss:0.039773717522621155\n",
            "Loss:0.07543627172708511\n",
            "Epoch: 10| Loss:0.07543627172708511 | Test loss:0.01536894403398037\n",
            "OrderedDict([('weights', tensor([0.6512])), ('bias', tensor([0.3588]))])\n",
            "Loss:0.039773717522621155\n",
            "Loss:0.07543627172708511\n",
            "Loss:0.039773717522621155\n",
            "Loss:0.07543627172708511\n",
            "Loss:0.039773717522621155\n",
            "Loss:0.07543627172708511\n",
            "Loss:0.039773717522621155\n",
            "Loss:0.07543627172708511\n",
            "Loss:0.039773717522621155\n",
            "Loss:0.07543627172708511\n",
            "Epoch: 20| Loss:0.07543627172708511 | Test loss:0.01536894403398037\n",
            "OrderedDict([('weights', tensor([0.6512])), ('bias', tensor([0.3588]))])\n",
            "Loss:0.039773717522621155\n",
            "Loss:0.07543627172708511\n",
            "Loss:0.039773717522621155\n",
            "Loss:0.07543627172708511\n",
            "Loss:0.039773717522621155\n",
            "Loss:0.07543627172708511\n",
            "Loss:0.039773717522621155\n",
            "Loss:0.07543627172708511\n",
            "Loss:0.039773717522621155\n",
            "Loss:0.07543627172708511\n",
            "Epoch: 30| Loss:0.07543627172708511 | Test loss:0.01536894403398037\n",
            "OrderedDict([('weights', tensor([0.6512])), ('bias', tensor([0.3588]))])\n",
            "Loss:0.039773717522621155\n",
            "Loss:0.07543627172708511\n",
            "Loss:0.039773717522621155\n",
            "Loss:0.07543627172708511\n",
            "Loss:0.039773717522621155\n",
            "Loss:0.07543627172708511\n",
            "Loss:0.039773717522621155\n",
            "Loss:0.07543627172708511\n",
            "Loss:0.039773717522621155\n",
            "Loss:0.07543627172708511\n",
            "Epoch: 40| Loss:0.07543627172708511 | Test loss:0.01536894403398037\n",
            "OrderedDict([('weights', tensor([0.6512])), ('bias', tensor([0.3588]))])\n",
            "Loss:0.039773717522621155\n",
            "Loss:0.07543627172708511\n",
            "Loss:0.039773717522621155\n",
            "Loss:0.07543627172708511\n",
            "Loss:0.039773717522621155\n",
            "Loss:0.07543627172708511\n",
            "Loss:0.039773717522621155\n",
            "Loss:0.07543627172708511\n",
            "Loss:0.039773717522621155\n",
            "Loss:0.07543627172708511\n",
            "Epoch: 50| Loss:0.07543627172708511 | Test loss:0.01536894403398037\n",
            "OrderedDict([('weights', tensor([0.6512])), ('bias', tensor([0.3588]))])\n",
            "Loss:0.039773717522621155\n",
            "Loss:0.07543627172708511\n",
            "Loss:0.039773717522621155\n",
            "Loss:0.07543627172708511\n",
            "Loss:0.039773717522621155\n",
            "Loss:0.07543627172708511\n",
            "Loss:0.039773717522621155\n",
            "Loss:0.07543627172708511\n",
            "Loss:0.039773717522621155\n",
            "Loss:0.07543627172708511\n",
            "Epoch: 60| Loss:0.07543627172708511 | Test loss:0.01536894403398037\n",
            "OrderedDict([('weights', tensor([0.6512])), ('bias', tensor([0.3588]))])\n",
            "Loss:0.039773717522621155\n",
            "Loss:0.07543627172708511\n",
            "Loss:0.039773717522621155\n",
            "Loss:0.07543627172708511\n",
            "Loss:0.039773717522621155\n",
            "Loss:0.07543627172708511\n",
            "Loss:0.039773717522621155\n",
            "Loss:0.07543627172708511\n",
            "Loss:0.039773717522621155\n",
            "Loss:0.07543627172708511\n",
            "Epoch: 70| Loss:0.07543627172708511 | Test loss:0.01536894403398037\n",
            "OrderedDict([('weights', tensor([0.6512])), ('bias', tensor([0.3588]))])\n",
            "Loss:0.039773717522621155\n",
            "Loss:0.07543627172708511\n",
            "Loss:0.039773717522621155\n",
            "Loss:0.07543627172708511\n",
            "Loss:0.039773717522621155\n",
            "Loss:0.07543627172708511\n",
            "Loss:0.039773717522621155\n",
            "Loss:0.07543627172708511\n",
            "Loss:0.039773717522621155\n",
            "Loss:0.07543627172708511\n",
            "Epoch: 80| Loss:0.07543627172708511 | Test loss:0.01536894403398037\n",
            "OrderedDict([('weights', tensor([0.6512])), ('bias', tensor([0.3588]))])\n",
            "Loss:0.039773717522621155\n",
            "Loss:0.07543627172708511\n",
            "Loss:0.039773717522621155\n",
            "Loss:0.07543627172708511\n",
            "Loss:0.039773717522621155\n",
            "Loss:0.07543627172708511\n",
            "Loss:0.039773717522621155\n",
            "Loss:0.07543627172708511\n",
            "Loss:0.039773717522621155\n",
            "Loss:0.07543627172708511\n",
            "Epoch: 90| Loss:0.07543627172708511 | Test loss:0.01536894403398037\n",
            "OrderedDict([('weights', tensor([0.6512])), ('bias', tensor([0.3588]))])\n",
            "Loss:0.039773717522621155\n",
            "Loss:0.07543627172708511\n",
            "Loss:0.039773717522621155\n",
            "Loss:0.07543627172708511\n",
            "Loss:0.039773717522621155\n",
            "Loss:0.07543627172708511\n",
            "Loss:0.039773717522621155\n",
            "Loss:0.07543627172708511\n",
            "Loss:0.039773717522621155\n"
          ]
        }
      ],
      "source": [
        "#Yad krna hai yeh Training kr rha hai model ki\n",
        "torch.manual_seed(42)\n",
        "# An epoch is one loops through the data... (this is a hyperparameter we've set it ourselves)\n",
        "epochs = 100\n",
        "\n",
        "# 0. Loops through the data\n",
        "for epoch in range(epochs):\n",
        "  \n",
        "  model_0.train() \n",
        "\n",
        "  # 1.Forward pass\n",
        "  y_pred = model_0(X_train)\n",
        "\n",
        "  # 2. Calculate the loss\n",
        "  loss = loss_fn(y_pred,y_train)\n",
        "  print(f\"Loss:{loss}\")\n",
        "  # 3. Optimizer zero grad\n",
        "  optimizer.zero_grad()\n",
        "\n",
        "  # 4. Perforom backpropagation on the loss with respect to the parameters of the model\n",
        "  loss.backward()\n",
        "\n",
        "  # 5. Step the optimizer (persfom gradient descent)\n",
        "  optimizer.step() \n",
        "  model_0.eval() \n",
        "  with torch.inference_mode(): \n",
        "    test_pred = model_0(X_test)\n",
        "\n",
        "    # 2. Calculate the loss\n",
        "    test_loss = loss_fn(test_pred,y_test)\n",
        "\n",
        "  # Print out what's happenin'\n",
        "  if epoch % 10 == 0:\n",
        "    print(f\"Epoch: {epoch}| Loss:{loss} | Test loss:{test_loss}\")\n",
        "    # Print out model state_dict()\n",
        "    print(model_0.state_dict())"
      ]
    },
    {
      "cell_type": "code",
      "execution_count": null,
      "metadata": {
        "id": "lys01gXB3r5-"
      },
      "outputs": [],
      "source": []
    },
    {
      "cell_type": "code",
      "execution_count": null,
      "metadata": {
        "id": "OGJflRpYaPCN"
      },
      "outputs": [],
      "source": [
        "with torch.inference_mode():\n",
        "  y_preds_new = model_0(X_test)"
      ]
    },
    {
      "cell_type": "code",
      "execution_count": null,
      "metadata": {
        "colab": {
          "base_uri": "https://localhost:8080/"
        },
        "id": "RG-_4Pb44ghM",
        "outputId": "4b1f863c-6012-4900-d10a-771c37a1cc32"
      },
      "outputs": [
        {
          "data": {
            "text/plain": [
              "OrderedDict([('weights', tensor([0.6122])), ('bias', tensor([0.2588]))])"
            ]
          },
          "execution_count": 46,
          "metadata": {},
          "output_type": "execute_result"
        }
      ],
      "source": [
        "model_0.state_dict()"
      ]
    },
    {
      "cell_type": "code",
      "execution_count": null,
      "metadata": {
        "colab": {
          "base_uri": "https://localhost:8080/"
        },
        "id": "58AQlj7mpz56",
        "outputId": "aaa8f634-c757-4f1b-a6e1-c204d01143e2"
      },
      "outputs": [
        {
          "data": {
            "text/plain": [
              "(0.7, 0.3)"
            ]
          },
          "execution_count": 34,
          "metadata": {},
          "output_type": "execute_result"
        }
      ],
      "source": [
        "weight,bias"
      ]
    },
    {
      "cell_type": "code",
      "execution_count": null,
      "metadata": {
        "colab": {
          "base_uri": "https://localhost:8080/",
          "height": 599
        },
        "id": "nPABx79Lp4oa",
        "outputId": "e90d3323-8b3a-423f-dba2-80969937fba1"
      },
      "outputs": [
        {
          "data": {
            "image/png": "[encoded data removed]",
            "text/plain": [
              "<Figure size 1000x700 with 1 Axes>"
            ]
          },
          "metadata": {},
          "output_type": "display_data"
        }
      ],
      "source": [
        "plot_predictions(predictions=y_preds)"
      ]
    },
    {
      "cell_type": "code",
      "execution_count": null,
      "metadata": {
        "colab": {
          "base_uri": "https://localhost:8080/",
          "height": 599
        },
        "id": "a2AlbJl4p_U8",
        "outputId": "ec27dc5d-a78a-4267-b784-5ee0ed369770"
      },
      "outputs": [
        {
          "data": {
            "image/png": "[encoded data removed]",
            "text/plain": [
              "<Figure size 1000x700 with 1 Axes>"
            ]
          },
          "metadata": {},
          "output_type": "display_data"
        }
      ],
      "source": [
        "plot_predictions(predictions=y_preds_new)"
      ]
    }
  ],
  "metadata": {
    "colab": {
      "provenance": []
    },
    "kernelspec": {
      "display_name": "Python 3",
      "name": "python3"
    },
    "language_info": {
      "name": "python"
    }
  },
  "nbformat": 4,
  "nbformat_minor": 0
}
